{
 "cells": [
  {
   "cell_type": "code",
   "execution_count": 1,
   "id": "af448df6",
   "metadata": {},
   "outputs": [],
   "source": [
    "from ehc_sn.mec import GridCellsLayer, MECNetwork"
   ]
  },
  {
   "cell_type": "code",
   "execution_count": 2,
   "id": "3584a299",
   "metadata": {},
   "outputs": [],
   "source": [
    "from ipywidgets import interact, IntSlider, FloatSlider\n",
    "from functools import partial\n",
    "\n",
    "IntSlider = partial(IntSlider, continuous_update=False)\n",
    "FloatSlider = partial(FloatSlider, continuous_update=False)"
   ]
  },
  {
   "cell_type": "code",
   "execution_count": 3,
   "id": "0b7cd55f",
   "metadata": {},
   "outputs": [],
   "source": [
    "mec_network = MECNetwork(\n",
    "    [\n",
    "        GridCellsLayer(width=10, height=10, spacing=0.1, orientation=0.0),\n",
    "        GridCellsLayer(width=10, height=10, spacing=0.2, orientation=0.0),\n",
    "        GridCellsLayer(width=10, height=10, spacing=0.4, orientation=0.0),\n",
    "    ]\n",
    ")"
   ]
  },
  {
   "cell_type": "code",
   "execution_count": 4,
   "id": "91d6d5bb",
   "metadata": {},
   "outputs": [
    {
     "data": {
      "application/vnd.jupyter.widget-view+json": {
       "model_id": "cb154d756046489685fb3f6d2aac9eb4",
       "version_major": 2,
       "version_minor": 0
      },
      "text/plain": [
       "interactive(children=(FloatSlider(value=0.0, continuous_update=False, description='x', max=10.0), FloatSlider(…"
      ]
     },
     "metadata": {},
     "output_type": "display_data"
    }
   ],
   "source": [
    "@interact\n",
    "def show_grid_cells_network(\n",
    "    x=FloatSlider(0.0, min=0.0, max=10.0, step=0.1),\n",
    "    y=FloatSlider(0.0, min=0.0, max=10.0, step=0.1),\n",
    "):\n",
    "    mec_network.set_position(position=(x, y))\n",
    "    mec_network.show()"
   ]
  }
 ],
 "metadata": {
  "kernelspec": {
   "display_name": ".venv",
   "language": "python",
   "name": "python3"
  },
  "language_info": {
   "codemirror_mode": {
    "name": "ipython",
    "version": 3
   },
   "file_extension": ".py",
   "mimetype": "text/x-python",
   "name": "python",
   "nbconvert_exporter": "python",
   "pygments_lexer": "ipython3",
   "version": "3.12.9"
  }
 },
 "nbformat": 4,
 "nbformat_minor": 5
}
